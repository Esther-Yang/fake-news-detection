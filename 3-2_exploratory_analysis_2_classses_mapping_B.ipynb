{
 "cells": [
  {
   "cell_type": "markdown",
   "metadata": {},
   "source": [
    "# 3-2 Exploratory Analysis (2 classes Mapping B)\n"
   ]
  },
  {
   "cell_type": "code",
   "execution_count": 1,
   "metadata": {
    "colab": {},
    "colab_type": "code",
    "id": "Qt-gqVTMF-Sl"
   },
   "outputs": [],
   "source": [
    "%load_ext autoreload\n",
    "%autoreload 2\n",
    "\n",
    "from import_file import*"
   ]
  },
  {
   "cell_type": "code",
   "execution_count": 2,
   "metadata": {
    "colab": {},
    "colab_type": "code",
    "id": "Qt-gqVTMF-Sl"
   },
   "outputs": [],
   "source": [
    "path = Path.cwd() / \"processed_data\" / \"df_raw.pkl\"\n",
    "df_raw = pd.read_pickle(path)"
   ]
  },
  {
   "cell_type": "markdown",
   "metadata": {},
   "source": [
    "## Convert 6 classes to 2 classes\n",
    "`df_bi_B` \n",
    "    \n",
    "    'true','mostly-true' : Truth\n",
    "    \n",
    "    'half-true', 'barely-true', 'false', 'pants-fire' : Fake"
   ]
  },
  {
   "cell_type": "code",
   "execution_count": 3,
   "metadata": {},
   "outputs": [],
   "source": [
    "df_bi_B = pd.DataFrame(df_raw)"
   ]
  },
  {
   "cell_type": "code",
   "execution_count": 4,
   "metadata": {},
   "outputs": [],
   "source": [
    "map_label_B = {\n",
    "        'true': 'Truth',\n",
    "        'mostly-true': 'Truth',\n",
    "        'half-true': 'Fake',\n",
    "        'barely-true': 'Fake',\n",
    "        'false': 'Fake',\n",
    "        'pants-fire': 'Fake'\n",
    "    }\n",
    "df_bi_B['label'] = df_bi_B['label'].replace(map_label_B)"
   ]
  },
  {
   "cell_type": "markdown",
   "metadata": {},
   "source": [
    "## Distribution"
   ]
  },
  {
   "cell_type": "code",
   "execution_count": 5,
   "metadata": {},
   "outputs": [
    {
     "data": {
      "text/plain": [
       "(12836, 15)"
      ]
     },
     "execution_count": 5,
     "metadata": {},
     "output_type": "execute_result"
    }
   ],
   "source": [
    "df_bi_B.shape"
   ]
  },
  {
   "cell_type": "code",
   "execution_count": 6,
   "metadata": {
    "scrolled": true
   },
   "outputs": [
    {
     "data": {
      "text/html": [
       "<div>\n",
       "<style scoped>\n",
       "    .dataframe tbody tr th:only-of-type {\n",
       "        vertical-align: middle;\n",
       "    }\n",
       "\n",
       "    .dataframe tbody tr th {\n",
       "        vertical-align: top;\n",
       "    }\n",
       "\n",
       "    .dataframe thead th {\n",
       "        text-align: right;\n",
       "    }\n",
       "</style>\n",
       "<table border=\"1\" class=\"dataframe\">\n",
       "  <thead>\n",
       "    <tr style=\"text-align: right;\">\n",
       "      <th></th>\n",
       "      <th>json ID</th>\n",
       "      <th>label</th>\n",
       "      <th>statement</th>\n",
       "      <th>subject</th>\n",
       "      <th>speaker</th>\n",
       "      <th>job title</th>\n",
       "      <th>state</th>\n",
       "      <th>party</th>\n",
       "      <th>barely true</th>\n",
       "      <th>false</th>\n",
       "      <th>half true</th>\n",
       "      <th>mostly true</th>\n",
       "      <th>pants on fire</th>\n",
       "      <th>context</th>\n",
       "      <th>justification</th>\n",
       "    </tr>\n",
       "  </thead>\n",
       "  <tbody>\n",
       "    <tr>\n",
       "      <th>0.0</th>\n",
       "      <td>2635.json</td>\n",
       "      <td>Fake</td>\n",
       "      <td>Says the Annies List political group supports ...</td>\n",
       "      <td>abortion</td>\n",
       "      <td>dwayne-bohac</td>\n",
       "      <td>State representative</td>\n",
       "      <td>Texas</td>\n",
       "      <td>republican</td>\n",
       "      <td>0.0</td>\n",
       "      <td>1.0</td>\n",
       "      <td>0.0</td>\n",
       "      <td>0.0</td>\n",
       "      <td>0.0</td>\n",
       "      <td>a mailer</td>\n",
       "      <td>That's a premise that he fails to back up. Ann...</td>\n",
       "    </tr>\n",
       "    <tr>\n",
       "      <th>1.0</th>\n",
       "      <td>10540.json</td>\n",
       "      <td>Fake</td>\n",
       "      <td>When did the decline of coal start? It started...</td>\n",
       "      <td>energy,history,job-accomplishments</td>\n",
       "      <td>scott-surovell</td>\n",
       "      <td>State delegate</td>\n",
       "      <td>Virginia</td>\n",
       "      <td>democrat</td>\n",
       "      <td>0.0</td>\n",
       "      <td>0.0</td>\n",
       "      <td>1.0</td>\n",
       "      <td>1.0</td>\n",
       "      <td>0.0</td>\n",
       "      <td>a floor speech.</td>\n",
       "      <td>\"Surovell said the decline of coal \"\"started w...</td>\n",
       "    </tr>\n",
       "    <tr>\n",
       "      <th>2.0</th>\n",
       "      <td>324.json</td>\n",
       "      <td>Truth</td>\n",
       "      <td>\"Hillary Clinton agrees with John McCain \"\"by ...</td>\n",
       "      <td>foreign-policy</td>\n",
       "      <td>barack-obama</td>\n",
       "      <td>President</td>\n",
       "      <td>Illinois</td>\n",
       "      <td>democrat</td>\n",
       "      <td>70.0</td>\n",
       "      <td>71.0</td>\n",
       "      <td>160.0</td>\n",
       "      <td>163.0</td>\n",
       "      <td>9.0</td>\n",
       "      <td>Denver</td>\n",
       "      <td>\"Obama said he would have voted against the am...</td>\n",
       "    </tr>\n",
       "    <tr>\n",
       "      <th>3.0</th>\n",
       "      <td>1123.json</td>\n",
       "      <td>Fake</td>\n",
       "      <td>Health care reform legislation is likely to ma...</td>\n",
       "      <td>health-care</td>\n",
       "      <td>blog-posting</td>\n",
       "      <td>NaN</td>\n",
       "      <td>NaN</td>\n",
       "      <td>none</td>\n",
       "      <td>7.0</td>\n",
       "      <td>19.0</td>\n",
       "      <td>3.0</td>\n",
       "      <td>5.0</td>\n",
       "      <td>44.0</td>\n",
       "      <td>a news release</td>\n",
       "      <td>\"The release may have a point that Mikulskis c...</td>\n",
       "    </tr>\n",
       "    <tr>\n",
       "      <th>4.0</th>\n",
       "      <td>9028.json</td>\n",
       "      <td>Fake</td>\n",
       "      <td>The economic turnaround started at the end of ...</td>\n",
       "      <td>economy,jobs</td>\n",
       "      <td>charlie-crist</td>\n",
       "      <td>NaN</td>\n",
       "      <td>Florida</td>\n",
       "      <td>democrat</td>\n",
       "      <td>15.0</td>\n",
       "      <td>9.0</td>\n",
       "      <td>20.0</td>\n",
       "      <td>19.0</td>\n",
       "      <td>2.0</td>\n",
       "      <td>an interview on CNN</td>\n",
       "      <td>\"Crist said that the economic \"\"turnaround sta...</td>\n",
       "    </tr>\n",
       "  </tbody>\n",
       "</table>\n",
       "</div>"
      ],
      "text/plain": [
       "        json ID  label                                          statement  \\\n",
       "0.0   2635.json   Fake  Says the Annies List political group supports ...   \n",
       "1.0  10540.json   Fake  When did the decline of coal start? It started...   \n",
       "2.0    324.json  Truth  \"Hillary Clinton agrees with John McCain \"\"by ...   \n",
       "3.0   1123.json   Fake  Health care reform legislation is likely to ma...   \n",
       "4.0   9028.json   Fake  The economic turnaround started at the end of ...   \n",
       "\n",
       "                                subject         speaker             job title  \\\n",
       "0.0                            abortion    dwayne-bohac  State representative   \n",
       "1.0  energy,history,job-accomplishments  scott-surovell        State delegate   \n",
       "2.0                      foreign-policy    barack-obama             President   \n",
       "3.0                         health-care    blog-posting                   NaN   \n",
       "4.0                        economy,jobs   charlie-crist                   NaN   \n",
       "\n",
       "        state       party  barely true  false  half true  mostly true  \\\n",
       "0.0     Texas  republican          0.0    1.0        0.0          0.0   \n",
       "1.0  Virginia    democrat          0.0    0.0        1.0          1.0   \n",
       "2.0  Illinois    democrat         70.0   71.0      160.0        163.0   \n",
       "3.0       NaN        none          7.0   19.0        3.0          5.0   \n",
       "4.0   Florida    democrat         15.0    9.0       20.0         19.0   \n",
       "\n",
       "     pants on fire              context  \\\n",
       "0.0            0.0             a mailer   \n",
       "1.0            0.0      a floor speech.   \n",
       "2.0            9.0               Denver   \n",
       "3.0           44.0       a news release   \n",
       "4.0            2.0  an interview on CNN   \n",
       "\n",
       "                                         justification  \n",
       "0.0  That's a premise that he fails to back up. Ann...  \n",
       "1.0  \"Surovell said the decline of coal \"\"started w...  \n",
       "2.0  \"Obama said he would have voted against the am...  \n",
       "3.0  \"The release may have a point that Mikulskis c...  \n",
       "4.0  \"Crist said that the economic \"\"turnaround sta...  "
      ]
     },
     "execution_count": 6,
     "metadata": {},
     "output_type": "execute_result"
    }
   ],
   "source": [
    "df_bi_B.head()"
   ]
  },
  {
   "cell_type": "code",
   "execution_count": 7,
   "metadata": {
    "scrolled": true
   },
   "outputs": [
    {
     "data": {
      "text/plain": [
       "<AxesSubplot:xlabel='label', ylabel='count'>"
      ]
     },
     "execution_count": 7,
     "metadata": {},
     "output_type": "execute_result"
    },
    {
     "data": {
      "image/png": "[encoded data removed]",
      "text/plain": [
       "<Figure size 432x288 with 1 Axes>"
      ]
     },
     "metadata": {
      "needs_background": "light"
     },
     "output_type": "display_data"
    }
   ],
   "source": [
    "sns.countplot(x='label', data = df_bi_B, palette = 'hls')"
   ]
  },
  {
   "cell_type": "markdown",
   "metadata": {},
   "source": [
    "## Save dataframe"
   ]
  },
  {
   "cell_type": "code",
   "execution_count": 8,
   "metadata": {},
   "outputs": [],
   "source": [
    "path = Path.cwd() / \"processed_data\" / \"df_bi_B.pkl\"\n",
    "df_bi_B.to_pickle(path)"
   ]
  }
 ],
 "metadata": {
  "accelerator": "GPU",
  "colab": {
   "name": "faceDetection.ipynb",
   "provenance": [],
   "version": "0.3.2"
  },
  "kernelspec": {
   "display_name": "Python 3",
   "language": "python",
   "name": "python3"
  },
  "language_info": {
   "codemirror_mode": {
    "name": "ipython",
    "version": 3
   },
   "file_extension": ".py",
   "mimetype": "text/x-python",
   "name": "python",
   "nbconvert_exporter": "python",
   "pygments_lexer": "ipython3",
   "version": "3.8.5"
  }
 },
 "nbformat": 4,
 "nbformat_minor": 1
}
