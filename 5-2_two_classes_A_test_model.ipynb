{
 "cells": [
  {
   "cell_type": "markdown",
   "metadata": {},
   "source": [
    "# 5-2 two classes - A - test model"
   ]
  },
  {
   "cell_type": "code",
   "execution_count": 1,
   "metadata": {
    "colab": {},
    "colab_type": "code",
    "id": "Qt-gqVTMF-Sl"
   },
   "outputs": [],
   "source": [
    "%load_ext autoreload\n",
    "%autoreload 2\n",
    "\n",
    "from import_file import*\n"
   ]
  },
  {
   "cell_type": "code",
   "execution_count": 2,
   "metadata": {},
   "outputs": [],
   "source": [
    "path = Path.cwd() / \"processed_data\" / \"df_bi_A.pkl\"\n",
    "df = pd.read_pickle(path)"
   ]
  },
  {
   "cell_type": "code",
   "execution_count": 3,
   "metadata": {},
   "outputs": [],
   "source": [
    "# Specifiying features and labels\n",
    "X = df['statement']\n",
    "y = df['label']"
   ]
  },
  {
   "cell_type": "code",
   "execution_count": 4,
   "metadata": {},
   "outputs": [
    {
     "name": "stdout",
     "output_type": "stream",
     "text": [
      "10268 2568\n",
      "10268 2568\n"
     ]
    }
   ],
   "source": [
    "# Specifying train and test split with ratio of 80:20\n",
    "X_train, X_test, y_train, y_test = train_test_split(X,y, test_size=0.2, random_state = 0, stratify=y)\n",
    "print(len(X_train), len(X_test))\n",
    "print(len(y_train), len(y_test))"
   ]
  },
  {
   "cell_type": "markdown",
   "metadata": {},
   "source": [
    "## Defining Functions"
   ]
  },
  {
   "cell_type": "code",
   "execution_count": 5,
   "metadata": {},
   "outputs": [],
   "source": [
    "stemmer = PorterStemmer()\n",
    "\n",
    "def tokenizer(input_string):\n",
    "    words = re.sub(r\"[^A-Za-z0-9-]\", \" \", input_string) # Replace everything except a-zA-Z0-9- by a space\n",
    "    words = words.lower() # Lower casing\n",
    "    words = words.split() # Split a string into a list  \n",
    "    words = [stemmer.stem(word) for word in words] #Stemming\n",
    "    return words"
   ]
  },
  {
   "cell_type": "code",
   "execution_count": 6,
   "metadata": {},
   "outputs": [],
   "source": [
    "# Stopwords list set to english\n",
    "stopwords_list = stopwords.words('english')"
   ]
  },
  {
   "cell_type": "code",
   "execution_count": 7,
   "metadata": {},
   "outputs": [],
   "source": [
    "model_dict = {}\n",
    "model_accuracy = []"
   ]
  },
  {
   "cell_type": "code",
   "execution_count": 8,
   "metadata": {},
   "outputs": [],
   "source": [
    "def print_results():\n",
    "    print(\"Accuracy: \", accuracy_score(y_test, y_pred))\n",
    "    model_accuracy.append(accuracy_score(y_test, y_pred))\n",
    "    print(classification_report(y_test, y_pred))\n",
    "    print(confusion_matrix(y_test, y_pred))"
   ]
  },
  {
   "cell_type": "code",
   "execution_count": 9,
   "metadata": {},
   "outputs": [],
   "source": [
    "def display_confusion_matrix(cm, classes, title='Confusion Matrix'):\n",
    "    df_cm = pd.DataFrame(cm, index = classes, columns = classes)\n",
    "    size = (10, 8)\n",
    "    fig, ax = plt.subplots(figsize = size)\n",
    "    sns.heatmap(df_cm, annot=True, cmap=\"Blues\", center=0, fmt='g')\n",
    "    ax.set_ylabel('Actual')    \n",
    "    ax.set_xlabel('Predicted')\n",
    "    plt.title(title)"
   ]
  },
  {
   "cell_type": "markdown",
   "metadata": {},
   "source": [
    "## Logistic Regression"
   ]
  },
  {
   "cell_type": "markdown",
   "metadata": {},
   "source": [
    "### Using `pipe1`"
   ]
  },
  {
   "cell_type": "code",
   "execution_count": 10,
   "metadata": {},
   "outputs": [
    {
     "name": "stdout",
     "output_type": "stream",
     "text": [
      "Accuracy:  0.6070872274143302\n",
      "              precision    recall  f1-score   support\n",
      "\n",
      "        Fake       0.57      0.45      0.50      1134\n",
      "       Truth       0.63      0.73      0.68      1434\n",
      "\n",
      "    accuracy                           0.61      2568\n",
      "   macro avg       0.60      0.59      0.59      2568\n",
      "weighted avg       0.60      0.61      0.60      2568\n",
      "\n",
      "[[ 507  627]\n",
      " [ 382 1052]]\n"
     ]
    }
   ],
   "source": [
    "# Make predictions using testing set\n",
    "path = Path.cwd() / \"saved_model\" / \"pipe1_LR_bi_A.pkl\"\n",
    "with open(path, 'rb') as f:\n",
    "    loaded_model = pickle.load(f)\n",
    "y_pred = loaded_model.predict(X_test)\n",
    "model_dict[0]='pipe 1 Logistic Regression'\n",
    "print_results() "
   ]
  },
  {
   "cell_type": "code",
   "execution_count": 11,
   "metadata": {},
   "outputs": [
    {
     "data": {
      "image/png": "[encoded data removed]",
      "text/plain": [
       "<Figure size 720x576 with 2 Axes>"
      ]
     },
     "metadata": {
      "needs_background": "light"
     },
     "output_type": "display_data"
    }
   ],
   "source": [
    "display_confusion_matrix(confusion_matrix(y_test, y_pred), loaded_model.classes_, 'pipe 1 Logistic Regression')"
   ]
  },
  {
   "cell_type": "markdown",
   "metadata": {},
   "source": [
    "### Using `pipe2`"
   ]
  },
  {
   "cell_type": "code",
   "execution_count": 12,
   "metadata": {},
   "outputs": [
    {
     "name": "stdout",
     "output_type": "stream",
     "text": [
      "Accuracy:  0.5907320872274143\n",
      "              precision    recall  f1-score   support\n",
      "\n",
      "        Fake       0.54      0.50      0.52      1134\n",
      "       Truth       0.63      0.66      0.64      1434\n",
      "\n",
      "    accuracy                           0.59      2568\n",
      "   macro avg       0.58      0.58      0.58      2568\n",
      "weighted avg       0.59      0.59      0.59      2568\n",
      "\n",
      "[[564 570]\n",
      " [481 953]]\n"
     ]
    }
   ],
   "source": [
    "# Make predictions using testing set\n",
    "path = Path.cwd() / \"saved_model\" / \"pipe2_LR_bi_A.pkl\"\n",
    "with open(path, 'rb') as f:\n",
    "    loaded_model = pickle.load(f)\n",
    "y_pred = loaded_model.predict(X_test)\n",
    "model_dict[1]='pipe 2 Logistic Regression'\n",
    "print_results() "
   ]
  },
  {
   "cell_type": "code",
   "execution_count": 13,
   "metadata": {},
   "outputs": [
    {
     "data": {
      "image/png": "[encoded data removed]",
      "text/plain": [
       "<Figure size 720x576 with 2 Axes>"
      ]
     },
     "metadata": {
      "needs_background": "light"
     },
     "output_type": "display_data"
    }
   ],
   "source": [
    "display_confusion_matrix(confusion_matrix(y_test, y_pred), loaded_model.classes_, 'pipe 2 Logistic Regression')"
   ]
  },
  {
   "cell_type": "markdown",
   "metadata": {},
   "source": [
    "## Multinomial Naive Bayes Classifier"
   ]
  },
  {
   "cell_type": "markdown",
   "metadata": {},
   "source": [
    "### Using `pipe1`"
   ]
  },
  {
   "cell_type": "code",
   "execution_count": 14,
   "metadata": {},
   "outputs": [
    {
     "name": "stdout",
     "output_type": "stream",
     "text": [
      "Accuracy:  0.6031931464174455\n",
      "              precision    recall  f1-score   support\n",
      "\n",
      "        Fake       0.60      0.31      0.41      1134\n",
      "       Truth       0.60      0.83      0.70      1434\n",
      "\n",
      "    accuracy                           0.60      2568\n",
      "   macro avg       0.60      0.57      0.56      2568\n",
      "weighted avg       0.60      0.60      0.57      2568\n",
      "\n",
      "[[ 352  782]\n",
      " [ 237 1197]]\n"
     ]
    }
   ],
   "source": [
    "# Make predictions using testing set\n",
    "path = Path.cwd() / \"saved_model\" / \"pipe1_MNB_bi_A.pkl\"\n",
    "with open(path, 'rb') as f:\n",
    "    loaded_model = pickle.load(f)\n",
    "y_pred = loaded_model.predict(X_test)\n",
    "model_dict[2]='pipe 1 Multinomial Naive Bayes'\n",
    "print_results() "
   ]
  },
  {
   "cell_type": "code",
   "execution_count": 15,
   "metadata": {
    "scrolled": false
   },
   "outputs": [
    {
     "data": {
      "image/png": "[encoded data removed]",
      "text/plain": [
       "<Figure size 720x576 with 2 Axes>"
      ]
     },
     "metadata": {
      "needs_background": "light"
     },
     "output_type": "display_data"
    }
   ],
   "source": [
    "display_confusion_matrix(confusion_matrix(y_test, y_pred), loaded_model.classes_, 'pipe 1 Multinomial Naive Bayes')"
   ]
  },
  {
   "cell_type": "markdown",
   "metadata": {},
   "source": [
    "### Using `pipe2`"
   ]
  },
  {
   "cell_type": "code",
   "execution_count": 16,
   "metadata": {},
   "outputs": [
    {
     "name": "stdout",
     "output_type": "stream",
     "text": [
      "Accuracy:  0.6016355140186916\n",
      "              precision    recall  f1-score   support\n",
      "\n",
      "        Fake       0.56      0.48      0.51      1134\n",
      "       Truth       0.63      0.70      0.66      1434\n",
      "\n",
      "    accuracy                           0.60      2568\n",
      "   macro avg       0.59      0.59      0.59      2568\n",
      "weighted avg       0.60      0.60      0.60      2568\n",
      "\n",
      "[[ 543  591]\n",
      " [ 432 1002]]\n"
     ]
    }
   ],
   "source": [
    "# Make predictions using testing set\n",
    "path = Path.cwd() / \"saved_model\" / \"pipe2_MNB_bi_A.pkl\"\n",
    "with open(path, 'rb') as f:\n",
    "    loaded_model = pickle.load(f)\n",
    "y_pred = loaded_model.predict(X_test)\n",
    "model_dict[3]='pipe 2 Multinomial Naive Bayes'\n",
    "print_results() "
   ]
  },
  {
   "cell_type": "code",
   "execution_count": 17,
   "metadata": {
    "scrolled": false
   },
   "outputs": [
    {
     "data": {
      "image/png": "[encoded data removed]",
      "text/plain": [
       "<Figure size 720x576 with 2 Axes>"
      ]
     },
     "metadata": {
      "needs_background": "light"
     },
     "output_type": "display_data"
    }
   ],
   "source": [
    "display_confusion_matrix(confusion_matrix(y_test, y_pred), loaded_model.classes_, 'pipe 2 Multinomial Naive Bayes')"
   ]
  },
  {
   "cell_type": "markdown",
   "metadata": {},
   "source": [
    "## Support Vector Machine"
   ]
  },
  {
   "cell_type": "markdown",
   "metadata": {},
   "source": [
    "### Using `pipe1`"
   ]
  },
  {
   "cell_type": "code",
   "execution_count": 18,
   "metadata": {
    "scrolled": true
   },
   "outputs": [
    {
     "name": "stdout",
     "output_type": "stream",
     "text": [
      "Accuracy:  0.5876168224299065\n",
      "              precision    recall  f1-score   support\n",
      "\n",
      "        Fake       0.54      0.44      0.48      1134\n",
      "       Truth       0.61      0.71      0.66      1434\n",
      "\n",
      "    accuracy                           0.59      2568\n",
      "   macro avg       0.58      0.57      0.57      2568\n",
      "weighted avg       0.58      0.59      0.58      2568\n",
      "\n",
      "[[ 497  637]\n",
      " [ 422 1012]]\n"
     ]
    }
   ],
   "source": [
    "# Make predictions using testing set\n",
    "path = Path.cwd() / \"saved_model\" / \"pipe1_SVM_bi_A.pkl\"\n",
    "with open(path, 'rb') as f:\n",
    "    loaded_model = pickle.load(f)\n",
    "y_pred = loaded_model.predict(X_test)\n",
    "model_dict[4]='pipe 1 Support Vector Machine'\n",
    "print_results() "
   ]
  },
  {
   "cell_type": "code",
   "execution_count": 19,
   "metadata": {
    "scrolled": false
   },
   "outputs": [
    {
     "data": {
      "image/png": "[encoded data removed]",
      "text/plain": [
       "<Figure size 720x576 with 2 Axes>"
      ]
     },
     "metadata": {
      "needs_background": "light"
     },
     "output_type": "display_data"
    }
   ],
   "source": [
    "display_confusion_matrix(confusion_matrix(y_test, y_pred), loaded_model.classes_, 'pipe 1 Support Vector Machine')"
   ]
  },
  {
   "cell_type": "markdown",
   "metadata": {},
   "source": [
    "### Using `pipe2`"
   ]
  },
  {
   "cell_type": "code",
   "execution_count": 20,
   "metadata": {
    "scrolled": true
   },
   "outputs": [
    {
     "name": "stdout",
     "output_type": "stream",
     "text": [
      "Accuracy:  0.5794392523364486\n",
      "              precision    recall  f1-score   support\n",
      "\n",
      "        Fake       0.52      0.51      0.52      1134\n",
      "       Truth       0.62      0.64      0.63      1434\n",
      "\n",
      "    accuracy                           0.58      2568\n",
      "   macro avg       0.57      0.57      0.57      2568\n",
      "weighted avg       0.58      0.58      0.58      2568\n",
      "\n",
      "[[576 558]\n",
      " [522 912]]\n"
     ]
    }
   ],
   "source": [
    "# Make predictions using testing set\n",
    "path = Path.cwd() / \"saved_model\" / \"pipe2_SVM_bi_A.pkl\"\n",
    "with open(path, 'rb') as f:\n",
    "    loaded_model = pickle.load(f)\n",
    "y_pred = loaded_model.predict(X_test)\n",
    "model_dict[5]='pipe 2 Support Vector Machine'\n",
    "print_results() "
   ]
  },
  {
   "cell_type": "code",
   "execution_count": 21,
   "metadata": {
    "scrolled": false
   },
   "outputs": [
    {
     "data": {
      "image/png": "[encoded data removed]",
      "text/plain": [
       "<Figure size 720x576 with 2 Axes>"
      ]
     },
     "metadata": {
      "needs_background": "light"
     },
     "output_type": "display_data"
    }
   ],
   "source": [
    "display_confusion_matrix(confusion_matrix(y_test, y_pred), loaded_model.classes_, 'pipe 2 Support Vector Machine')"
   ]
  },
  {
   "cell_type": "markdown",
   "metadata": {},
   "source": [
    "## Decision Tree Classifier"
   ]
  },
  {
   "cell_type": "markdown",
   "metadata": {},
   "source": [
    "### Using `pipe1`"
   ]
  },
  {
   "cell_type": "code",
   "execution_count": 22,
   "metadata": {
    "scrolled": true
   },
   "outputs": [
    {
     "name": "stdout",
     "output_type": "stream",
     "text": [
      "Accuracy:  0.5545171339563862\n",
      "              precision    recall  f1-score   support\n",
      "\n",
      "        Fake       0.50      0.48      0.49      1134\n",
      "       Truth       0.60      0.62      0.61      1434\n",
      "\n",
      "    accuracy                           0.55      2568\n",
      "   macro avg       0.55      0.55      0.55      2568\n",
      "weighted avg       0.55      0.55      0.55      2568\n",
      "\n",
      "[[541 593]\n",
      " [551 883]]\n"
     ]
    }
   ],
   "source": [
    "# Make predictions using testing set\n",
    "path = Path.cwd() / \"saved_model\" / \"pipe1_DTC_bi_A.pkl\"\n",
    "with open(path, 'rb') as f:\n",
    "    loaded_model = pickle.load(f)\n",
    "y_pred = loaded_model.predict(X_test)\n",
    "model_dict[6]='pipe 1 Decision Tree Classifier'\n",
    "print_results() "
   ]
  },
  {
   "cell_type": "code",
   "execution_count": 23,
   "metadata": {
    "scrolled": false
   },
   "outputs": [
    {
     "data": {
      "image/png": "[encoded data removed]",
      "text/plain": [
       "<Figure size 720x576 with 2 Axes>"
      ]
     },
     "metadata": {
      "needs_background": "light"
     },
     "output_type": "display_data"
    }
   ],
   "source": [
    "display_confusion_matrix(confusion_matrix(y_test, y_pred), loaded_model.classes_, 'pipe 1 Decision Tree Classifier')"
   ]
  },
  {
   "cell_type": "markdown",
   "metadata": {},
   "source": [
    "### Using `pipe2`"
   ]
  },
  {
   "cell_type": "code",
   "execution_count": 24,
   "metadata": {
    "scrolled": true
   },
   "outputs": [
    {
     "name": "stdout",
     "output_type": "stream",
     "text": [
      "Accuracy:  0.573208722741433\n",
      "              precision    recall  f1-score   support\n",
      "\n",
      "        Fake       0.52      0.47      0.49      1134\n",
      "       Truth       0.61      0.66      0.63      1434\n",
      "\n",
      "    accuracy                           0.57      2568\n",
      "   macro avg       0.56      0.56      0.56      2568\n",
      "weighted avg       0.57      0.57      0.57      2568\n",
      "\n",
      "[[532 602]\n",
      " [494 940]]\n"
     ]
    }
   ],
   "source": [
    "# Make predictions using testing set\n",
    "path = Path.cwd() / \"saved_model\" / \"pipe2_DTC_bi_A.pkl\"\n",
    "with open(path, 'rb') as f:\n",
    "    loaded_model = pickle.load(f)\n",
    "y_pred = loaded_model.predict(X_test)\n",
    "model_dict[7]='pipe 2 Decision Tree Classifier'\n",
    "print_results() "
   ]
  },
  {
   "cell_type": "code",
   "execution_count": 25,
   "metadata": {
    "scrolled": false
   },
   "outputs": [
    {
     "data": {
      "image/png": "[encoded data removed]",
      "text/plain": [
       "<Figure size 720x576 with 2 Axes>"
      ]
     },
     "metadata": {
      "needs_background": "light"
     },
     "output_type": "display_data"
    }
   ],
   "source": [
    "display_confusion_matrix(confusion_matrix(y_test, y_pred), loaded_model.classes_, 'pipe 2 Decision Tree Classifier')"
   ]
  },
  {
   "cell_type": "markdown",
   "metadata": {},
   "source": [
    "## Random Forest Classifier"
   ]
  },
  {
   "cell_type": "markdown",
   "metadata": {},
   "source": [
    "### Using `pipe1`"
   ]
  },
  {
   "cell_type": "code",
   "execution_count": 26,
   "metadata": {
    "scrolled": true
   },
   "outputs": [
    {
     "name": "stdout",
     "output_type": "stream",
     "text": [
      "Accuracy:  0.610202492211838\n",
      "              precision    recall  f1-score   support\n",
      "\n",
      "        Fake       0.58      0.44      0.50      1134\n",
      "       Truth       0.63      0.74      0.68      1434\n",
      "\n",
      "    accuracy                           0.61      2568\n",
      "   macro avg       0.60      0.59      0.59      2568\n",
      "weighted avg       0.60      0.61      0.60      2568\n",
      "\n",
      "[[ 502  632]\n",
      " [ 369 1065]]\n"
     ]
    }
   ],
   "source": [
    "# Make predictions using testing set\n",
    "path = Path.cwd() / \"saved_model\" / \"pipe1_RFC_bi_A.pkl\"\n",
    "with open(path, 'rb') as f:\n",
    "    loaded_model = pickle.load(f)\n",
    "y_pred = loaded_model.predict(X_test)\n",
    "model_dict[8]='pipe 1 Random Forest Classifier'\n",
    "print_results() "
   ]
  },
  {
   "cell_type": "code",
   "execution_count": 27,
   "metadata": {
    "scrolled": false
   },
   "outputs": [
    {
     "data": {
      "image/png": "[encoded data removed]",
      "text/plain": [
       "<Figure size 720x576 with 2 Axes>"
      ]
     },
     "metadata": {
      "needs_background": "light"
     },
     "output_type": "display_data"
    }
   ],
   "source": [
    "display_confusion_matrix(confusion_matrix(y_test, y_pred), loaded_model.classes_, 'pipe 1 Random Forest Classifier')"
   ]
  },
  {
   "cell_type": "markdown",
   "metadata": {},
   "source": [
    "### Using `pipe2`"
   ]
  },
  {
   "cell_type": "code",
   "execution_count": 28,
   "metadata": {
    "scrolled": true
   },
   "outputs": [
    {
     "name": "stdout",
     "output_type": "stream",
     "text": [
      "Accuracy:  0.6230529595015576\n",
      "              precision    recall  f1-score   support\n",
      "\n",
      "        Fake       0.59      0.48      0.53      1134\n",
      "       Truth       0.64      0.74      0.69      1434\n",
      "\n",
      "    accuracy                           0.62      2568\n",
      "   macro avg       0.62      0.61      0.61      2568\n",
      "weighted avg       0.62      0.62      0.62      2568\n",
      "\n",
      "[[ 543  591]\n",
      " [ 377 1057]]\n"
     ]
    }
   ],
   "source": [
    "# Make predictions using testing set\n",
    "path = Path.cwd() / \"saved_model\" / \"pipe2_RFC_bi_A.pkl\"\n",
    "with open(path, 'rb') as f:\n",
    "    loaded_model = pickle.load(f)\n",
    "y_pred = loaded_model.predict(X_test)\n",
    "model_dict[9]='pipe 2 Random Forest Classifier'\n",
    "print_results() "
   ]
  },
  {
   "cell_type": "code",
   "execution_count": 29,
   "metadata": {
    "scrolled": false
   },
   "outputs": [
    {
     "data": {
      "image/png": "[encoded data removed]",
      "text/plain": [
       "<Figure size 720x576 with 2 Axes>"
      ]
     },
     "metadata": {
      "needs_background": "light"
     },
     "output_type": "display_data"
    }
   ],
   "source": [
    "display_confusion_matrix(confusion_matrix(y_test, y_pred), loaded_model.classes_, 'pipe 2 Random Forest Classifier')"
   ]
  },
  {
   "cell_type": "markdown",
   "metadata": {},
   "source": [
    "## Accuracy of the models"
   ]
  },
  {
   "cell_type": "code",
   "execution_count": 30,
   "metadata": {
    "scrolled": true
   },
   "outputs": [
    {
     "name": "stdout",
     "output_type": "stream",
     "text": [
      "pipe 1 Logistic Regression accuracy: 0.6070872274143302\n",
      "pipe 2 Logistic Regression accuracy: 0.5907320872274143\n",
      "pipe 1 Multinomial Naive Bayes accuracy: 0.6031931464174455\n",
      "pipe 2 Multinomial Naive Bayes accuracy: 0.6016355140186916\n",
      "pipe 1 Support Vector Machine accuracy: 0.5876168224299065\n",
      "pipe 2 Support Vector Machine accuracy: 0.5794392523364486\n",
      "pipe 1 Decision Tree Classifier accuracy: 0.5545171339563862\n",
      "pipe 2 Decision Tree Classifier accuracy: 0.573208722741433\n",
      "pipe 1 Random Forest Classifier accuracy: 0.610202492211838\n",
      "pipe 2 Random Forest Classifier accuracy: 0.6230529595015576\n"
     ]
    }
   ],
   "source": [
    "for i in range(len(model_accuracy)):\n",
    "    print(\"{} accuracy: {}\".format(model_dict[i], model_accuracy[i]))"
   ]
  }
 ],
 "metadata": {
  "accelerator": "GPU",
  "colab": {
   "name": "faceDetection.ipynb",
   "provenance": [],
   "version": "0.3.2"
  },
  "kernelspec": {
   "display_name": "Python 3",
   "language": "python",
   "name": "python3"
  },
  "language_info": {
   "codemirror_mode": {
    "name": "ipython",
    "version": 3
   },
   "file_extension": ".py",
   "mimetype": "text/x-python",
   "name": "python",
   "nbconvert_exporter": "python",
   "pygments_lexer": "ipython3",
   "version": "3.8.5"
  }
 },
 "nbformat": 4,
 "nbformat_minor": 1
}
