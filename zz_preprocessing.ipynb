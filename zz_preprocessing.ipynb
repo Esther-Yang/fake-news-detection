{
 "cells": [
  {
   "cell_type": "code",
   "execution_count": 1,
   "metadata": {},
   "outputs": [],
   "source": [
    "%load_ext autoreload\n",
    "%autoreload 2\n",
    "\n",
    "from import_file import*"
   ]
  },
  {
   "cell_type": "code",
   "execution_count": 9,
   "metadata": {},
   "outputs": [],
   "source": [
    "path = Path.cwd() / \"processed_data\" / \"df_raw.pkl\"\n",
    "df = pd.read_pickle(path)"
   ]
  },
  {
   "cell_type": "code",
   "execution_count": 13,
   "metadata": {},
   "outputs": [
    {
     "data": {
      "text/plain": [
       "array(['\"But it seems clear Trump wasn\\'t talking about them. And the fact that some of those relatives were evacuated from the United States for their protection doesn\\'t make what Trump said during the Fox debate any more accurate. . factbox {      font-family: \\'Roboto\\', \\'Helvetica\\', sans-serif;      color: rgba(0, 0, 0, 0. 86);      font-weight: 400;      margin: 0px;      margin-top:40px;      padding: 0;      background-color:#f5f5f5;      padding:32px;      padding-bottom:24px;      display: block;      margin: auto;      margin:0 auto;      background-color: #ffffff;      width:75%;      height:auto;      max-width:600px;      min-width:260px;      box-shadow: 0 2px 2px 0 rgba(0,0,0,. 34),0 3px 1px -2px rgba(0,0,0,. 4),0 1px 5px 0 rgba(0,0,0,. 32);      position: relative;    }        . factbox . factbox-header {      height: 25px;      margin-top: -20px;      border-bottom-width: 1px;      border-bottom-color: silver;      border-bottom-style: solid;      margin-bottom: 20px;      font-size: 16px;      color: rgba(0,0,0,0. 86);    }      . factbox . name {      display: inline-block;      float:left;    }        . factbox . name img {      display: inline-block;      float:left;      padding-bottom: 10px;      padding-right: 20px;    }        . factbox . speaker{      float:left;      padding-top: 10px;      width:300px;    }        . factbox . speaker . speaker-name {      font-weight: 500;      font-size: 20px;      padding-bottom: 8px;    }        . factbox . speaker . speaker-title {      color: rgba(0,0,0,0. 54);      font-size:14px;    }      . factbox . rating {      padding-left:32px;      float: right;      width:120px;      height:auto;      display: inline;      max-height: 200px;    }      . factbox . rating img {      width: 100%;      padding-bottom:24px;    }      . factbox h1 {      display: inline-block;      font-weight: 500;      font-size: 20px;      line-height: 1. 35em;      -webkit-margin-before: . 35em;      -webkit-margin-after: 0em;      -webkit-margin-start: 0px;      -webkit-margin-end: 0px;    }      . factbox p {      margin-top: 80px;      width: 100%;      display: block;      font-size: 16px;      line-height: 26px;    }        . factbox . dateline {      font-size: 14px;      color: rgba(0,0,0,0. 54);      font-weight: 400;      margin-top: 8px;    }      . factbox hr {      border-bottom: 1px;       border-left: 0px;       border-right: 0px;       border-top: 0px;       border-style:solid;      border-color:#e0e0e0;      padding-top: 0px;      padding-bottom: 0px;    }      . factbox . links {      display:block;      padding-top: 20px;    }      . factbox a:-webkit-any-link {      color: #2196f3;      text-decoration: none;      cursor: pointer;    }      . factbox . links a {      margin-right: 32px;      font-size: 14px;      text-transform: uppercase;      color: #2196f3;      text-decoration: none;      font-weight: 500;    }      . factbox . links a:hover {      cursor: pointer;    }      . factbox a :hover {     cursor: pointer;     text-decoration: none;    }      . factbox ul {      padding-left: 0px;      display:block;      padding-top: 10px;      padding-bottom: 0px;    }      . factbox li {      display: inline;      margin-right: 32px;      font-size: 14px;      text-transform: uppercase;      color: #2196f3;      text-decoration: none;      font-weight: 500;      cursor: pointer;    }      . factbox li a {      font-size: 14px;      text-transform: uppercase;      color: #2196f3;      text-decoration: none;      font-weight: 500;    }      . factbox li a:visited {      color: #2196f3;    }      . factbox . menu . share {       display: none;      margin-top: 32px;    }        . factbox . menu . share . share-button {      display: inline-block;      height: 64px;      width: 64px;      border-radius: 0px;      position: relative;    }    . factbox . menu . share . share-button . share-label{      position: absolute;      top: 50%; left: 50%;      transform: translate(-50%, -50%);      font-size: 18px;      color: white;    }        . factbox . menu . share . share-button . share-label a:-webkit-any-link{    color:white;        }    . factbox . menu . share . share-button . share-label a{    color:white;        }        . factbox . menu . share . facebook {      background-color: rgb(64,94,145);    }    . factbox . menu . share . twitter {      background-color: rgb(104,172,216);    }    . factbox . menu . share . google-plus {      background-color: rgb(215,84,81);    }        . factbox . menu . share . embed-button {      display: inline-block;      height: 64px;      width: 275px;      background: #ffffff;      box-shadow: 0px 0px 2px 0px rgba(0,0,0,. 12), 0px 2px 2px 0px rgba(0,0,0,. 24);      border-radius: 2px;      font-weight: 500;      font-size: 14px;      color: #2196f3;      letter-spacing: 0. 5px;      line-height: 16px;      position: relative;      margin-left: 24px;    }        . factbox . menu . share . embed-button . embed-label {      position: absolute;      top: 50%; left: 50%;      transform: translate(-50%, -50%);    }        . factbox . menu . share . embed-button . embed-label a {      text-decoration: none;    }        . factbox . menu . share . embed-button . embed-label a:visited {        color: #2196f3;    }          . factbox . share . embed_box {       display: none;      height: 300px;      margin-top: 16px;      width: 100%;    }      . factbox . menu li {      color: rgba(0, 0, 0, 0. 87);      text-transform: none;      cursor: default;      display: inline;    }      . factbox . menu li span {      margin-right: 0px;    }      . factbox . menu li img {      width: 100%;      display: -webkit-flex;      display: flex;    }         . factbox . menu ul. dropit-submenu  {      padding-top:32px;      width: 100%;    }      . factbox . menu ul. dropit-submenu a {      font-size: 14px;      line-height: 25px;      padding: 0 18px;    }      . factbox a {    }      @media screen and (min-width: 560px){      . factbox {        width: 600px;      }    }      @media screen and (max-width: 560px) {      . factbox . rating {        padding-left: 24px;        float: right;        width: 100px;        height: auto;        display: inline;      }      . factbox . name {        padding-bottom: 8px;      }            . factbox p {        clear: left;      }            . factbox . speaker {        float: none;        width: 100%;      }                }      @media screen and (max-width: 460px) {       . factbox . menu . share . embed-button {        margin-top: 24px;        margin-left: 0px;        width: 100%;      }            . factbox . name {        padding-bottom: 20px;      }          . factbox . speaker {       float: none;      }        . factbox . speaker . speaker-name {        font-size: 14px;      }      }      @media screen and (max-width: 364px) {      . factbox {        padding: 24px;        display: block;        margin: auto;        margin: 0 auto;        background-color: #ffffff;        width: 75%;        height: auto;        max-width: 600px;        min-width: 260px;        box-shadow: 0 2px 2px 0 rgba(0,0,0,. 14),0 3px 1px -2px rgba(0,0,0,. 2),0 1px 5px 0 rgba(0,0,0,. 12);        position: relative;      }      . factbox . rating {        padding-left: 24px;        float: right;        width: 90px;        height: auto;        display: inline;      }      . factbox . name {        float: left;      }            . factbox . name img {        float: left;      }            . factbox . speaker . speaker-title {        font-size: 9px;      }        . factbox p {        font-size: 16px;        line-height: 24px;      }    }             function toggleEmbedBox(e) {        var embed_box = e. parentElement. parentElement. parentElement. getElementsByClassName(\\'embed_box\\')[0];        if(embed_box. style. display == \\'block\\'){        embed_box. style. display = \\'none\\';      } else {          var factbox = e;          while (!factbox. classList. contains(\\'factbox\\')) {            factbox = factbox. parentElement;          }              var container = document. createElement(\"\"div\"\");          container. appendChild(factbox. innerHTML = container. innerHTML;          embed_box. style. display = \\'block\\';      }      }        function toggleShareVisibility(e) {        var e = e. parentElement. parentElement. getElementsByClassName(\\'share\\')[0];        if (e. style. display === \\'block\\') {          e. style. display = \\'none\\';        } else {         e. style. display = \\'block\\';        }      }            //adopted from       function facebookShare(url, picture, winWidth, winHeight) {        openShare(\\' + url + \\'&picture=\\' + picture, winWidth, winHeight);      }            function twitterShare(tweet_id, winWidth, winHeight){        openShare(\\' + tweet_id, winWidth, winHeight);      }            function openShare(url, winWidth, winHeight){        var winTop = (screen. height / 2) - (winHeight / 2);        var winLeft = (screen. width / 2) - (winWidth / 2);        window. open(url, \\'sharer\\', \\'top=\\' + winTop + \\',left=\\' + winLeft + \\',toolbar=0,status=0,width=\\' + winWidth + \\',height=\\' + winHeight);      }       Share The Facts    Donald Trump Presidential candidate              The wives of the 9/11 hijackers \"\"knew exactly what was happening\"\" and went back to Saudi Arabia two days before the attacks to watch their husbands on television flying the planes.\"'],\n",
       "      dtype=object)"
      ]
     },
     "execution_count": 13,
     "metadata": {},
     "output_type": "execute_result"
    }
   ],
   "source": [
    "val = df.loc[df['json ID']=='12001.json','justification'].values\n",
    "val"
   ]
  },
  {
   "cell_type": "code",
   "execution_count": 3,
   "metadata": {},
   "outputs": [],
   "source": [
    "# Specifiying features and labels\n",
    "X = df_raw['statement']\n",
    "y = df_raw['label']"
   ]
  },
  {
   "cell_type": "code",
   "execution_count": 4,
   "metadata": {},
   "outputs": [],
   "source": [
    "pd.set_option('display.max_colwidth', None)"
   ]
  },
  {
   "cell_type": "code",
   "execution_count": 5,
   "metadata": {},
   "outputs": [],
   "source": [
    "#10540, 620, 1038, 11418, 1833\n",
    "text = df_raw.loc[df_raw['json ID']=='11418.json',['statement']]"
   ]
  },
  {
   "cell_type": "code",
   "execution_count": 6,
   "metadata": {},
   "outputs": [
    {
     "data": {
      "text/plain": [
       "pandas.core.frame.DataFrame"
      ]
     },
     "execution_count": 6,
     "metadata": {},
     "output_type": "execute_result"
    }
   ],
   "source": [
    "type(text)"
   ]
  },
  {
   "cell_type": "code",
   "execution_count": 7,
   "metadata": {},
   "outputs": [
    {
     "name": "stdout",
     "output_type": "stream",
     "text": [
      "                                                                                          statement\n",
      "45.0  African-American youth unemployment is 51 percent. Hispanic youth unemployment is 36 percent.\n"
     ]
    }
   ],
   "source": [
    "print(text)"
   ]
  },
  {
   "cell_type": "code",
   "execution_count": 8,
   "metadata": {},
   "outputs": [],
   "source": [
    "stext = str(text)"
   ]
  },
  {
   "cell_type": "code",
   "execution_count": 9,
   "metadata": {},
   "outputs": [
    {
     "data": {
      "text/plain": [
       "str"
      ]
     },
     "execution_count": 9,
     "metadata": {},
     "output_type": "execute_result"
    }
   ],
   "source": [
    "type(stext)"
   ]
  },
  {
   "cell_type": "code",
   "execution_count": 10,
   "metadata": {},
   "outputs": [
    {
     "name": "stdout",
     "output_type": "stream",
     "text": [
      "                                                                                          statement\n",
      "45.0  African-American youth unemployment is 51 percent. Hispanic youth unemployment is 36 percent.\n"
     ]
    }
   ],
   "source": [
    "print(stext)"
   ]
  },
  {
   "cell_type": "code",
   "execution_count": 11,
   "metadata": {},
   "outputs": [],
   "source": [
    "input_string = \"African-American youth unemployment is 51 percent. Hispanic youth unemployment is 36 percent.\"\n"
   ]
  },
  {
   "cell_type": "code",
   "execution_count": 12,
   "metadata": {},
   "outputs": [],
   "source": [
    "stemmer = PorterStemmer()\n",
    "\n",
    "def tokenizer(input_string):\n",
    "    words = re.sub(r\"[^A-Za-z0-9-]\", \" \", input_string) # Replace everything except a-zA-Z0-9- by a space\n",
    "    print(words)\n",
    "    words = words.lower() # Lowering\n",
    "    print(words)\n",
    "    words = words.split() # Split a string into a list  \n",
    "    print(words)\n",
    "    words = [stemmer.stem(word) for word in words] #Stemming\n",
    "    print(words)\n",
    "    return words"
   ]
  },
  {
   "cell_type": "code",
   "execution_count": 13,
   "metadata": {
    "scrolled": true
   },
   "outputs": [
    {
     "name": "stdout",
     "output_type": "stream",
     "text": [
      "African-American youth unemployment is 51 percent  Hispanic youth unemployment is 36 percent \n",
      "african-american youth unemployment is 51 percent  hispanic youth unemployment is 36 percent \n",
      "['african-american', 'youth', 'unemployment', 'is', '51', 'percent', 'hispanic', 'youth', 'unemployment', 'is', '36', 'percent']\n",
      "['african-american', 'youth', 'unemploy', 'is', '51', 'percent', 'hispan', 'youth', 'unemploy', 'is', '36', 'percent']\n"
     ]
    }
   ],
   "source": [
    "words = tokenizer(input_string)"
   ]
  },
  {
   "cell_type": "code",
   "execution_count": 14,
   "metadata": {},
   "outputs": [
    {
     "name": "stdout",
     "output_type": "stream",
     "text": [
      "['african-american', 'youth', 'unemploy', '51', 'percent', 'hispan', 'youth', 'unemploy', '36', 'percent']\n"
     ]
    }
   ],
   "source": [
    "# Stopwords list set to english\n",
    "stopwords_list = stopwords.words('english')\n",
    "\n",
    "words =  [word for word in words if word not in stopwords_list]\n",
    "print(words)"
   ]
  },
  {
   "cell_type": "code",
   "execution_count": null,
   "metadata": {},
   "outputs": [],
   "source": []
  }
 ],
 "metadata": {
  "kernelspec": {
   "display_name": "Python 3",
   "language": "python",
   "name": "python3"
  },
  "language_info": {
   "codemirror_mode": {
    "name": "ipython",
    "version": 3
   },
   "file_extension": ".py",
   "mimetype": "text/x-python",
   "name": "python",
   "nbconvert_exporter": "python",
   "pygments_lexer": "ipython3",
   "version": "3.8.5"
  }
 },
 "nbformat": 4,
 "nbformat_minor": 4
}
