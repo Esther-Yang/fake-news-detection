{
 "cells": [
  {
   "cell_type": "markdown",
   "metadata": {},
   "source": [
    "# 6-2 two classes - B - test model"
   ]
  },
  {
   "cell_type": "code",
   "execution_count": 1,
   "metadata": {
    "colab": {},
    "colab_type": "code",
    "id": "Qt-gqVTMF-Sl"
   },
   "outputs": [],
   "source": [
    "%load_ext autoreload\n",
    "%autoreload 2\n",
    "\n",
    "from import_file import*\n"
   ]
  },
  {
   "cell_type": "code",
   "execution_count": 2,
   "metadata": {},
   "outputs": [],
   "source": [
    "path = Path.cwd() / \"processed_data\" / \"df_bi_B.pkl\"\n",
    "df = pd.read_pickle(path)"
   ]
  },
  {
   "cell_type": "code",
   "execution_count": 3,
   "metadata": {},
   "outputs": [],
   "source": [
    "# Specifiying features and labels\n",
    "X = df['statement']\n",
    "y = df['label']"
   ]
  },
  {
   "cell_type": "code",
   "execution_count": 4,
   "metadata": {},
   "outputs": [
    {
     "name": "stdout",
     "output_type": "stream",
     "text": [
      "10268 2568\n",
      "10268 2568\n"
     ]
    }
   ],
   "source": [
    "# Specifying train and test split with ratio of 80:20\n",
    "X_train, X_test, y_train, y_test = train_test_split(X,y, test_size=0.2, random_state = 0, stratify=y)\n",
    "print(len(X_train), len(X_test))\n",
    "print(len(y_train), len(y_test))"
   ]
  },
  {
   "cell_type": "markdown",
   "metadata": {},
   "source": [
    "## Defining Functions"
   ]
  },
  {
   "cell_type": "code",
   "execution_count": 5,
   "metadata": {},
   "outputs": [],
   "source": [
    "stemmer = PorterStemmer()\n",
    "\n",
    "def tokenizer(input_string):\n",
    "    words = re.sub(r\"[^A-Za-z0-9-]\", \" \", input_string) # Replace everything except a-zA-Z0-9- by a space\n",
    "    words = words.lower() # Lower casing\n",
    "    words = words.split() # Split a string into a list  \n",
    "    words = [stemmer.stem(word) for word in words] #Stemming\n",
    "    return words"
   ]
  },
  {
   "cell_type": "code",
   "execution_count": 6,
   "metadata": {},
   "outputs": [],
   "source": [
    "# Stopwords list set to english\n",
    "stopwords_list = stopwords.words('english')"
   ]
  },
  {
   "cell_type": "code",
   "execution_count": 7,
   "metadata": {},
   "outputs": [],
   "source": [
    "model_dict = {}\n",
    "model_accuracy = []"
   ]
  },
  {
   "cell_type": "code",
   "execution_count": 8,
   "metadata": {},
   "outputs": [],
   "source": [
    "def print_results():\n",
    "    print(\"Accuracy: \", accuracy_score(y_test, y_pred))\n",
    "    model_accuracy.append(accuracy_score(y_test, y_pred))\n",
    "    print(classification_report(y_test, y_pred))\n",
    "    print(confusion_matrix(y_test, y_pred))"
   ]
  },
  {
   "cell_type": "code",
   "execution_count": 9,
   "metadata": {},
   "outputs": [],
   "source": [
    "def display_confusion_matrix(cm, classes, title='Confusion Matrix'):\n",
    "    df_cm = pd.DataFrame(cm, index = classes, columns = classes)\n",
    "    size = (10, 8)\n",
    "    fig, ax = plt.subplots(figsize = size)\n",
    "    sns.heatmap(df_cm, annot=True, cmap=\"Blues\", center=0, fmt='g')\n",
    "    ax.set_ylabel('Actual')    \n",
    "    ax.set_xlabel('Predicted')\n",
    "    plt.title(title)"
   ]
  },
  {
   "cell_type": "markdown",
   "metadata": {},
   "source": [
    "## Logistic Regression"
   ]
  },
  {
   "cell_type": "markdown",
   "metadata": {},
   "source": [
    "### Using `pipe1`"
   ]
  },
  {
   "cell_type": "code",
   "execution_count": 10,
   "metadata": {},
   "outputs": [
    {
     "name": "stdout",
     "output_type": "stream",
     "text": [
      "Accuracy:  0.6495327102803738\n",
      "              precision    recall  f1-score   support\n",
      "\n",
      "        Fake       0.68      0.88      0.77      1662\n",
      "       Truth       0.51      0.22      0.31       906\n",
      "\n",
      "    accuracy                           0.65      2568\n",
      "   macro avg       0.59      0.55      0.54      2568\n",
      "weighted avg       0.62      0.65      0.60      2568\n",
      "\n",
      "[[1466  196]\n",
      " [ 704  202]]\n"
     ]
    }
   ],
   "source": [
    "# Make predictions using testing set\n",
    "path = Path.cwd() / \"saved_model\" / \"pipe1_LR_bi_B.pkl\"\n",
    "with open(path, 'rb') as f:\n",
    "    loaded_model = pickle.load(f)\n",
    "y_pred = loaded_model.predict(X_test)\n",
    "model_dict[0]='pipe 1 Logistic Regression'\n",
    "print_results() "
   ]
  },
  {
   "cell_type": "code",
   "execution_count": 11,
   "metadata": {},
   "outputs": [
    {
     "data": {
      "image/png": "[encoded data removed]",
      "text/plain": [
       "<Figure size 720x576 with 2 Axes>"
      ]
     },
     "metadata": {
      "needs_background": "light"
     },
     "output_type": "display_data"
    }
   ],
   "source": [
    "display_confusion_matrix(confusion_matrix(y_test, y_pred), loaded_model.classes_, 'pipe 1 Logistic Regression')"
   ]
  },
  {
   "cell_type": "markdown",
   "metadata": {},
   "source": [
    "### Using `pipe2`"
   ]
  },
  {
   "cell_type": "code",
   "execution_count": 12,
   "metadata": {},
   "outputs": [
    {
     "name": "stdout",
     "output_type": "stream",
     "text": [
      "Accuracy:  0.6082554517133957\n",
      "              precision    recall  f1-score   support\n",
      "\n",
      "        Fake       0.67      0.77      0.72      1662\n",
      "       Truth       0.42      0.31      0.36       906\n",
      "\n",
      "    accuracy                           0.61      2568\n",
      "   macro avg       0.55      0.54      0.54      2568\n",
      "weighted avg       0.59      0.61      0.59      2568\n",
      "\n",
      "[[1279  383]\n",
      " [ 623  283]]\n"
     ]
    }
   ],
   "source": [
    "# Make predictions using testing set\n",
    "path = Path.cwd() / \"saved_model\" / \"pipe2_LR_bi_B.pkl\"\n",
    "with open(path, 'rb') as f:\n",
    "    loaded_model = pickle.load(f)\n",
    "y_pred = loaded_model.predict(X_test)\n",
    "model_dict[1]='pipe 2 Logistic Regression'\n",
    "print_results() "
   ]
  },
  {
   "cell_type": "code",
   "execution_count": 13,
   "metadata": {},
   "outputs": [
    {
     "data": {
      "image/png": "[encoded data removed]",
      "text/plain": [
       "<Figure size 720x576 with 2 Axes>"
      ]
     },
     "metadata": {
      "needs_background": "light"
     },
     "output_type": "display_data"
    }
   ],
   "source": [
    "display_confusion_matrix(confusion_matrix(y_test, y_pred), loaded_model.classes_, 'pipe 2 Logistic Regression')"
   ]
  },
  {
   "cell_type": "markdown",
   "metadata": {},
   "source": [
    "## Multinomial Naive Bayes"
   ]
  },
  {
   "cell_type": "markdown",
   "metadata": {},
   "source": [
    "### Using `pipe1`"
   ]
  },
  {
   "cell_type": "code",
   "execution_count": 14,
   "metadata": {},
   "outputs": [
    {
     "name": "stdout",
     "output_type": "stream",
     "text": [
      "Accuracy:  0.6448598130841121\n",
      "              precision    recall  f1-score   support\n",
      "\n",
      "        Fake       0.65      0.97      0.78      1662\n",
      "       Truth       0.47      0.05      0.08       906\n",
      "\n",
      "    accuracy                           0.64      2568\n",
      "   macro avg       0.56      0.51      0.43      2568\n",
      "weighted avg       0.59      0.64      0.53      2568\n",
      "\n",
      "[[1614   48]\n",
      " [ 864   42]]\n"
     ]
    }
   ],
   "source": [
    "# Make predictions using testing set\n",
    "path = Path.cwd() / \"saved_model\" / \"pipe1_MNB_bi_B.pkl\"\n",
    "with open(path, 'rb') as f:\n",
    "    loaded_model = pickle.load(f)\n",
    "y_pred = loaded_model.predict(X_test)\n",
    "model_dict[2]='pipe 1 Multinomial Naive Bayes'\n",
    "print_results() "
   ]
  },
  {
   "cell_type": "code",
   "execution_count": 15,
   "metadata": {
    "scrolled": false
   },
   "outputs": [
    {
     "data": {
      "image/png": "[encoded data removed]",
      "text/plain": [
       "<Figure size 720x576 with 2 Axes>"
      ]
     },
     "metadata": {
      "needs_background": "light"
     },
     "output_type": "display_data"
    }
   ],
   "source": [
    "display_confusion_matrix(confusion_matrix(y_test, y_pred), loaded_model.classes_, 'pipe 1 Multinomial Naive Bayes')"
   ]
  },
  {
   "cell_type": "markdown",
   "metadata": {},
   "source": [
    "### Using `pipe2`"
   ]
  },
  {
   "cell_type": "code",
   "execution_count": 16,
   "metadata": {},
   "outputs": [
    {
     "name": "stdout",
     "output_type": "stream",
     "text": [
      "Accuracy:  0.6257788161993769\n",
      "              precision    recall  f1-score   support\n",
      "\n",
      "        Fake       0.68      0.78      0.73      1662\n",
      "       Truth       0.46      0.34      0.39       906\n",
      "\n",
      "    accuracy                           0.63      2568\n",
      "   macro avg       0.57      0.56      0.56      2568\n",
      "weighted avg       0.60      0.63      0.61      2568\n",
      "\n",
      "[[1300  362]\n",
      " [ 599  307]]\n"
     ]
    }
   ],
   "source": [
    "# Make predictions using testing set\n",
    "path = Path.cwd() / \"saved_model\" / \"pipe2_MNB_bi_B.pkl\"\n",
    "with open(path, 'rb') as f:\n",
    "    loaded_model = pickle.load(f)\n",
    "y_pred = loaded_model.predict(X_test)\n",
    "model_dict[3]='pipe 2 Multinomial Naive Bayes'\n",
    "print_results() "
   ]
  },
  {
   "cell_type": "code",
   "execution_count": 17,
   "metadata": {
    "scrolled": false
   },
   "outputs": [
    {
     "data": {
      "image/png": "[encoded data removed]",
      "text/plain": [
       "<Figure size 720x576 with 2 Axes>"
      ]
     },
     "metadata": {
      "needs_background": "light"
     },
     "output_type": "display_data"
    }
   ],
   "source": [
    "display_confusion_matrix(confusion_matrix(y_test, y_pred), loaded_model.classes_, 'pipe 2 Multinomial Naive Bayes')"
   ]
  },
  {
   "cell_type": "markdown",
   "metadata": {},
   "source": [
    "## Support Vector Machine"
   ]
  },
  {
   "cell_type": "markdown",
   "metadata": {},
   "source": [
    "### Using `pipe1`"
   ]
  },
  {
   "cell_type": "code",
   "execution_count": 18,
   "metadata": {
    "scrolled": true
   },
   "outputs": [
    {
     "name": "stdout",
     "output_type": "stream",
     "text": [
      "Accuracy:  0.6335669781931464\n",
      "              precision    recall  f1-score   support\n",
      "\n",
      "        Fake       0.67      0.85      0.75      1662\n",
      "       Truth       0.46      0.24      0.32       906\n",
      "\n",
      "    accuracy                           0.63      2568\n",
      "   macro avg       0.57      0.54      0.53      2568\n",
      "weighted avg       0.60      0.63      0.60      2568\n",
      "\n",
      "[[1409  253]\n",
      " [ 688  218]]\n"
     ]
    }
   ],
   "source": [
    "# Make predictions using testing set\n",
    "path = Path.cwd() / \"saved_model\" / \"pipe1_SVM_bi_B.pkl\"\n",
    "with open(path, 'rb') as f:\n",
    "    loaded_model = pickle.load(f)\n",
    "y_pred = loaded_model.predict(X_test)\n",
    "model_dict[4]='pipe 1 Support Vector Machine'\n",
    "print_results() "
   ]
  },
  {
   "cell_type": "code",
   "execution_count": 19,
   "metadata": {
    "scrolled": false
   },
   "outputs": [
    {
     "data": {
      "image/png": "[encoded data removed]",
      "text/plain": [
       "<Figure size 720x576 with 2 Axes>"
      ]
     },
     "metadata": {
      "needs_background": "light"
     },
     "output_type": "display_data"
    }
   ],
   "source": [
    "display_confusion_matrix(confusion_matrix(y_test, y_pred), loaded_model.classes_, 'pipe 1 Support Vector Machine')"
   ]
  },
  {
   "cell_type": "markdown",
   "metadata": {},
   "source": [
    "### Using `pipe2`"
   ]
  },
  {
   "cell_type": "code",
   "execution_count": 20,
   "metadata": {
    "scrolled": true
   },
   "outputs": [
    {
     "name": "stdout",
     "output_type": "stream",
     "text": [
      "Accuracy:  0.5996884735202492\n",
      "              precision    recall  f1-score   support\n",
      "\n",
      "        Fake       0.68      0.73      0.70      1662\n",
      "       Truth       0.42      0.36      0.39       906\n",
      "\n",
      "    accuracy                           0.60      2568\n",
      "   macro avg       0.55      0.55      0.55      2568\n",
      "weighted avg       0.59      0.60      0.59      2568\n",
      "\n",
      "[[1214  448]\n",
      " [ 580  326]]\n"
     ]
    }
   ],
   "source": [
    "# Make predictions using testing set\n",
    "path = Path.cwd() / \"saved_model\" / \"pipe2_SVM_bi_B.pkl\"\n",
    "with open(path, 'rb') as f:\n",
    "    loaded_model = pickle.load(f)\n",
    "y_pred = loaded_model.predict(X_test)\n",
    "model_dict[5]='pipe 2 Support Vector Machine'\n",
    "print_results() "
   ]
  },
  {
   "cell_type": "code",
   "execution_count": 21,
   "metadata": {
    "scrolled": false
   },
   "outputs": [
    {
     "data": {
      "image/png": "[encoded data removed]",
      "text/plain": [
       "<Figure size 720x576 with 2 Axes>"
      ]
     },
     "metadata": {
      "needs_background": "light"
     },
     "output_type": "display_data"
    }
   ],
   "source": [
    "display_confusion_matrix(confusion_matrix(y_test, y_pred), loaded_model.classes_, 'pipe 2 Support Vector Machine')"
   ]
  },
  {
   "cell_type": "markdown",
   "metadata": {},
   "source": [
    "## Decision Tree Classifier"
   ]
  },
  {
   "cell_type": "markdown",
   "metadata": {},
   "source": [
    "### Using `pipe1`"
   ]
  },
  {
   "cell_type": "code",
   "execution_count": 22,
   "metadata": {
    "scrolled": true
   },
   "outputs": [
    {
     "name": "stdout",
     "output_type": "stream",
     "text": [
      "Accuracy:  0.5712616822429907\n",
      "              precision    recall  f1-score   support\n",
      "\n",
      "        Fake       0.67      0.67      0.67      1662\n",
      "       Truth       0.39      0.38      0.39       906\n",
      "\n",
      "    accuracy                           0.57      2568\n",
      "   macro avg       0.53      0.53      0.53      2568\n",
      "weighted avg       0.57      0.57      0.57      2568\n",
      "\n",
      "[[1120  542]\n",
      " [ 559  347]]\n"
     ]
    }
   ],
   "source": [
    "# Make predictions using testing set\n",
    "path = Path.cwd() / \"saved_model\" / \"pipe1_DTC_bi_B.pkl\"\n",
    "with open(path, 'rb') as f:\n",
    "    loaded_model = pickle.load(f)\n",
    "y_pred = loaded_model.predict(X_test)\n",
    "model_dict[6]='pipe 1 Decision Tree Classifier'\n",
    "print_results() "
   ]
  },
  {
   "cell_type": "code",
   "execution_count": 23,
   "metadata": {
    "scrolled": false
   },
   "outputs": [
    {
     "data": {
      "image/png": "[encoded data removed]",
      "text/plain": [
       "<Figure size 720x576 with 2 Axes>"
      ]
     },
     "metadata": {
      "needs_background": "light"
     },
     "output_type": "display_data"
    }
   ],
   "source": [
    "display_confusion_matrix(confusion_matrix(y_test, y_pred), loaded_model.classes_, 'pipe 1 Decision Tree Classifier')"
   ]
  },
  {
   "cell_type": "markdown",
   "metadata": {},
   "source": [
    "### Using `pipe2`"
   ]
  },
  {
   "cell_type": "code",
   "execution_count": 24,
   "metadata": {
    "scrolled": true
   },
   "outputs": [
    {
     "name": "stdout",
     "output_type": "stream",
     "text": [
      "Accuracy:  0.5852803738317757\n",
      "              precision    recall  f1-score   support\n",
      "\n",
      "        Fake       0.67      0.70      0.69      1662\n",
      "       Truth       0.41      0.38      0.39       906\n",
      "\n",
      "    accuracy                           0.59      2568\n",
      "   macro avg       0.54      0.54      0.54      2568\n",
      "weighted avg       0.58      0.59      0.58      2568\n",
      "\n",
      "[[1163  499]\n",
      " [ 566  340]]\n"
     ]
    }
   ],
   "source": [
    "# Make predictions using testing set\n",
    "path = Path.cwd() / \"saved_model\" / \"pipe2_DTC_bi_B.pkl\"\n",
    "with open(path, 'rb') as f:\n",
    "    loaded_model = pickle.load(f)\n",
    "y_pred = loaded_model.predict(X_test)\n",
    "model_dict[7]='pipe 2 Decision Tree Classifier'\n",
    "print_results() "
   ]
  },
  {
   "cell_type": "code",
   "execution_count": 25,
   "metadata": {
    "scrolled": false
   },
   "outputs": [
    {
     "data": {
      "image/png": "[encoded data removed]",
      "text/plain": [
       "<Figure size 720x576 with 2 Axes>"
      ]
     },
     "metadata": {
      "needs_background": "light"
     },
     "output_type": "display_data"
    }
   ],
   "source": [
    "display_confusion_matrix(confusion_matrix(y_test, y_pred), loaded_model.classes_, 'pipe 2 Decision Tree Classifier')"
   ]
  },
  {
   "cell_type": "markdown",
   "metadata": {},
   "source": [
    "## Random Forest Classifier"
   ]
  },
  {
   "cell_type": "markdown",
   "metadata": {},
   "source": [
    "### Using `pipe1`"
   ]
  },
  {
   "cell_type": "code",
   "execution_count": 26,
   "metadata": {
    "scrolled": true
   },
   "outputs": [
    {
     "name": "stdout",
     "output_type": "stream",
     "text": [
      "Accuracy:  0.6456386292834891\n",
      "              precision    recall  f1-score   support\n",
      "\n",
      "        Fake       0.67      0.90      0.77      1662\n",
      "       Truth       0.49      0.17      0.26       906\n",
      "\n",
      "    accuracy                           0.65      2568\n",
      "   macro avg       0.58      0.54      0.51      2568\n",
      "weighted avg       0.61      0.65      0.59      2568\n",
      "\n",
      "[[1501  161]\n",
      " [ 749  157]]\n"
     ]
    }
   ],
   "source": [
    "# Make predictions using testing set\n",
    "path = Path.cwd() / \"saved_model\" / \"pipe1_RFC_bi_B.pkl\"\n",
    "with open(path, 'rb') as f:\n",
    "    loaded_model = pickle.load(f)\n",
    "y_pred = loaded_model.predict(X_test)\n",
    "model_dict[8]='pipe 1 Random Forest Classifier'\n",
    "print_results() "
   ]
  },
  {
   "cell_type": "code",
   "execution_count": 27,
   "metadata": {
    "scrolled": false
   },
   "outputs": [
    {
     "data": {
      "image/png": "[encoded data removed]",
      "text/plain": [
       "<Figure size 720x576 with 2 Axes>"
      ]
     },
     "metadata": {
      "needs_background": "light"
     },
     "output_type": "display_data"
    }
   ],
   "source": [
    "display_confusion_matrix(confusion_matrix(y_test, y_pred), loaded_model.classes_, 'pipe 1 Random Forest Classifier')"
   ]
  },
  {
   "cell_type": "markdown",
   "metadata": {},
   "source": [
    "### Using `pipe2`"
   ]
  },
  {
   "cell_type": "code",
   "execution_count": 28,
   "metadata": {
    "scrolled": true
   },
   "outputs": [
    {
     "name": "stdout",
     "output_type": "stream",
     "text": [
      "Accuracy:  0.6452492211838006\n",
      "              precision    recall  f1-score   support\n",
      "\n",
      "        Fake       0.66      0.91      0.77      1662\n",
      "       Truth       0.49      0.15      0.23       906\n",
      "\n",
      "    accuracy                           0.65      2568\n",
      "   macro avg       0.58      0.53      0.50      2568\n",
      "weighted avg       0.60      0.65      0.58      2568\n",
      "\n",
      "[[1520  142]\n",
      " [ 769  137]]\n"
     ]
    }
   ],
   "source": [
    "# Make predictions using testing set\n",
    "path = Path.cwd() / \"saved_model\" / \"pipe2_RFC_bi_B.pkl\"\n",
    "with open(path, 'rb') as f:\n",
    "    loaded_model = pickle.load(f)\n",
    "y_pred = loaded_model.predict(X_test)\n",
    "model_dict[9]='pipe 2 Random Forest Classifier'\n",
    "print_results() "
   ]
  },
  {
   "cell_type": "code",
   "execution_count": 29,
   "metadata": {
    "scrolled": false
   },
   "outputs": [
    {
     "data": {
      "image/png": "[encoded data removed]",
      "text/plain": [
       "<Figure size 720x576 with 2 Axes>"
      ]
     },
     "metadata": {
      "needs_background": "light"
     },
     "output_type": "display_data"
    }
   ],
   "source": [
    "display_confusion_matrix(confusion_matrix(y_test, y_pred), loaded_model.classes_, 'pipe 2 Random Forest Classifier')"
   ]
  },
  {
   "cell_type": "markdown",
   "metadata": {},
   "source": [
    "## Accuracy of the models"
   ]
  },
  {
   "cell_type": "code",
   "execution_count": 30,
   "metadata": {
    "scrolled": true
   },
   "outputs": [
    {
     "name": "stdout",
     "output_type": "stream",
     "text": [
      "pipe 1 Logistic Regression accuracy: 0.6495327102803738\n",
      "pipe 2 Logistic Regression accuracy: 0.6082554517133957\n",
      "pipe 1 Multinomial Naive Bayes accuracy: 0.6448598130841121\n",
      "pipe 2 Multinomial Naive Bayes accuracy: 0.6257788161993769\n",
      "pipe 1 Support Vector Machine accuracy: 0.6335669781931464\n",
      "pipe 2 Support Vector Machine accuracy: 0.5996884735202492\n",
      "pipe 1 Decision Tree Classifier accuracy: 0.5712616822429907\n",
      "pipe 2 Decision Tree Classifier accuracy: 0.5852803738317757\n",
      "pipe 1 Random Forest Classifier accuracy: 0.6456386292834891\n",
      "pipe 2 Random Forest Classifier accuracy: 0.6452492211838006\n"
     ]
    }
   ],
   "source": [
    "for i in range(len(model_accuracy)):\n",
    "    print(\"{} accuracy: {}\".format(model_dict[i], model_accuracy[i]))"
   ]
  }
 ],
 "metadata": {
  "accelerator": "GPU",
  "colab": {
   "name": "faceDetection.ipynb",
   "provenance": [],
   "version": "0.3.2"
  },
  "kernelspec": {
   "display_name": "Python 3",
   "language": "python",
   "name": "python3"
  },
  "language_info": {
   "codemirror_mode": {
    "name": "ipython",
    "version": 3
   },
   "file_extension": ".py",
   "mimetype": "text/x-python",
   "name": "python",
   "nbconvert_exporter": "python",
   "pygments_lexer": "ipython3",
   "version": "3.8.5"
  }
 },
 "nbformat": 4,
 "nbformat_minor": 1
}
