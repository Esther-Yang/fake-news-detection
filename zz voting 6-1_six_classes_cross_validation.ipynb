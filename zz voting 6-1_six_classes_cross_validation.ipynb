{
 "cells": [
  {
   "cell_type": "markdown",
   "id": "fdc64004",
   "metadata": {},
   "source": [
    "# 6-1 six classes cross validation"
   ]
  },
  {
   "cell_type": "code",
   "execution_count": 1,
   "id": "77b2aff0",
   "metadata": {
    "colab": {},
    "colab_type": "code",
    "id": "Qt-gqVTMF-Sl"
   },
   "outputs": [],
   "source": [
    "%load_ext autoreload\n",
    "%autoreload 2\n",
    "\n",
    "from import_file import*\n"
   ]
  },
  {
   "cell_type": "code",
   "execution_count": 2,
   "id": "cd6e239c",
   "metadata": {},
   "outputs": [],
   "source": [
    "path = Path.cwd() / \"processed_data\" / \"df_raw.pkl\"\n",
    "df_raw = pd.read_pickle(path)"
   ]
  },
  {
   "cell_type": "markdown",
   "id": "9f6311a6",
   "metadata": {},
   "source": [
    "## Feature Extraction"
   ]
  },
  {
   "cell_type": "code",
   "execution_count": 3,
   "id": "4a53a200",
   "metadata": {},
   "outputs": [],
   "source": [
    "# Specifiying features and labels\n",
    "X = df_raw['statement']\n",
    "y = df_raw['label']"
   ]
  },
  {
   "cell_type": "markdown",
   "id": "c9e5888a",
   "metadata": {},
   "source": [
    "## Defining Functions"
   ]
  },
  {
   "cell_type": "code",
   "execution_count": 4,
   "id": "3975de66",
   "metadata": {},
   "outputs": [],
   "source": [
    "stemmer = PorterStemmer()\n",
    "\n",
    "def tokenizer(input_string):\n",
    "    words = re.sub(r\"[^A-Za-z0-9-]\", \" \", input_string) # Replace everything except a-zA-Z0-9- by a space\n",
    "    words = words.lower() # Lowering\n",
    "    words = words.split() # Split a string into a list  \n",
    "    words = [stemmer.stem(word) for word in words] #Stemming\n",
    "    return words"
   ]
  },
  {
   "cell_type": "code",
   "execution_count": 5,
   "id": "6c1d9786",
   "metadata": {},
   "outputs": [],
   "source": [
    "# Stopwords list set to english\n",
    "stopwords_list = stopwords.words('english')"
   ]
  },
  {
   "cell_type": "markdown",
   "id": "31485a33",
   "metadata": {},
   "source": [
    "## General Syntax"
   ]
  },
  {
   "cell_type": "code",
   "execution_count": null,
   "id": "3d26a427",
   "metadata": {},
   "outputs": [],
   "source": [
    "path = Path.cwd() / \"saved_model\" / \"pipe1_LR.pkl\"\n",
    "with open(path, 'rb') as f:\n",
    "    loaded_model = pickle.load(f)"
   ]
  },
  {
   "cell_type": "code",
   "execution_count": null,
   "id": "5e19d536",
   "metadata": {},
   "outputs": [],
   "source": [
    "cross_val_score(loaded_model, X, y, cv = 5, scoring='accuracy').mean()"
   ]
  },
  {
   "cell_type": "markdown",
   "id": "a7c2f00a",
   "metadata": {},
   "source": [
    "## Logistic Regression"
   ]
  },
  {
   "cell_type": "code",
   "execution_count": 6,
   "id": "3cabe7dd",
   "metadata": {},
   "outputs": [],
   "source": [
    "path = Path.cwd() / \"saved_model\" / \"pipe1_LR.pkl\"\n",
    "with open(path, 'rb') as f:\n",
    "    p1_LR = pickle.load(f)"
   ]
  },
  {
   "cell_type": "code",
   "execution_count": 7,
   "id": "b68f7901",
   "metadata": {},
   "outputs": [],
   "source": [
    "path = Path.cwd() / \"saved_model\" / \"pipe2_LR.pkl\"\n",
    "with open(path, 'rb') as f:\n",
    "    p2_LR = pickle.load(f)"
   ]
  },
  {
   "cell_type": "code",
   "execution_count": 8,
   "id": "a70e7a40",
   "metadata": {},
   "outputs": [
    {
     "data": {
      "text/plain": [
       "0.2368344261638554"
      ]
     },
     "execution_count": 8,
     "metadata": {},
     "output_type": "execute_result"
    }
   ],
   "source": [
    "cross_val_score(p1_LR, X, y, cv = 5, scoring='accuracy').mean()"
   ]
  },
  {
   "cell_type": "code",
   "execution_count": 9,
   "id": "05f50e3b",
   "metadata": {},
   "outputs": [
    {
     "data": {
      "text/plain": [
       "0.2387039794564852"
      ]
     },
     "execution_count": 9,
     "metadata": {},
     "output_type": "execute_result"
    }
   ],
   "source": [
    "cross_val_score(p2_LR, X, y, cv = 5, scoring='accuracy').mean()"
   ]
  },
  {
   "cell_type": "markdown",
   "id": "742fd73a",
   "metadata": {},
   "source": [
    "## Voting classifier"
   ]
  },
  {
   "cell_type": "code",
   "execution_count": null,
   "id": "618c58a8",
   "metadata": {},
   "outputs": [],
   "source": [
    "from sklearn.ensemble import VotingClassifier"
   ]
  },
  {
   "cell_type": "code",
   "execution_count": null,
   "id": "4e31e269",
   "metadata": {},
   "outputs": [],
   "source": [
    "path = Path.cwd() / \"saved_model\" / \"pipe1_LR.pkl\"\n",
    "with open(path, 'rb') as f:\n",
    "    lr = pickle.load(f)"
   ]
  },
  {
   "cell_type": "code",
   "execution_count": null,
   "id": "e308c639",
   "metadata": {},
   "outputs": [],
   "source": [
    "path = Path.cwd() / \"saved_model\" / \"pipe1_MNB.pkl\"\n",
    "with open(path, 'rb') as f:\n",
    "    mnb = pickle.load(f)"
   ]
  },
  {
   "cell_type": "code",
   "execution_count": null,
   "id": "a9db0630",
   "metadata": {},
   "outputs": [],
   "source": [
    "vc = VotingClassifier([('clf1', lr), ('clf', mnb)], voting='soft')\n",
    "cross_val_score(vc, X, y).mean()"
   ]
  },
  {
   "cell_type": "code",
   "execution_count": null,
   "id": "6964f129",
   "metadata": {},
   "outputs": [],
   "source": []
  }
 ],
 "metadata": {
  "kernelspec": {
   "display_name": "Python 3",
   "language": "python",
   "name": "python3"
  },
  "language_info": {
   "codemirror_mode": {
    "name": "ipython",
    "version": 3
   },
   "file_extension": ".py",
   "mimetype": "text/x-python",
   "name": "python",
   "nbconvert_exporter": "python",
   "pygments_lexer": "ipython3",
   "version": "3.8.10"
  }
 },
 "nbformat": 4,
 "nbformat_minor": 5
}
